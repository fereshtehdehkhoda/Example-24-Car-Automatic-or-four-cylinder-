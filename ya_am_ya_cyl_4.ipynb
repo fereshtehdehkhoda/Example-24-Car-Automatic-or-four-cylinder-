{
  "cells": [
    {
      "cell_type": "markdown",
      "metadata": {
        "id": "view-in-github",
        "colab_type": "text"
      },
      "source": [
        "<a href=\"https://colab.research.google.com/github/fereshtehdehkhoda/Example-24-Car-Automatic-or-four-cylinder-/blob/main/ya_am_ya_cyl_4.ipynb\" target=\"_parent\"><img src=\"https://colab.research.google.com/assets/colab-badge.svg\" alt=\"Open In Colab\"/></a>"
      ]
    },
    {
      "cell_type": "code",
      "execution_count": null,
      "id": "b34c61d6-bcf8-4846-b3ba-7f76e1bcab54",
      "metadata": {
        "id": "b34c61d6-bcf8-4846-b3ba-7f76e1bcab54"
      },
      "outputs": [],
      "source": [
        "# چند درصد خودروهای موجود در این نمونه، یا دنده اتوماتیک هستند و یا 4 سیلندر دارند؟"
      ]
    },
    {
      "cell_type": "code",
      "execution_count": null,
      "id": "2f31c90b-9892-4be0-bb94-20081f4c885a",
      "metadata": {
        "id": "2f31c90b-9892-4be0-bb94-20081f4c885a"
      },
      "outputs": [],
      "source": [
        "import pandas as pd\n",
        "import numpy as np\n",
        "import matplotlib.pyplot as plt\n",
        "import math as mt"
      ]
    },
    {
      "cell_type": "code",
      "execution_count": null,
      "id": "79cc684f-039f-4d33-b002-2d4350f51c85",
      "metadata": {
        "id": "79cc684f-039f-4d33-b002-2d4350f51c85"
      },
      "outputs": [],
      "source": [
        "data=pd.read_csv(\"mtcars.csv\")"
      ]
    },
    {
      "cell_type": "code",
      "execution_count": null,
      "id": "9c3071b1-34e9-4d62-90ab-dc767f1833f1",
      "metadata": {
        "id": "9c3071b1-34e9-4d62-90ab-dc767f1833f1",
        "outputId": "da391c86-82c9-4ea7-aa10-0b6445db0970"
      },
      "outputs": [
        {
          "name": "stdout",
          "output_type": "stream",
          "text": [
            "<class 'pandas.core.frame.DataFrame'>\n",
            "RangeIndex: 32 entries, 0 to 31\n",
            "Data columns (total 12 columns):\n",
            " #   Column   Non-Null Count  Dtype  \n",
            "---  ------   --------------  -----  \n",
            " 0   vehicle  32 non-null     object \n",
            " 1   mpg      32 non-null     float64\n",
            " 2   cyl      32 non-null     int64  \n",
            " 3   disp     32 non-null     float64\n",
            " 4   hp       32 non-null     int64  \n",
            " 5   drat     32 non-null     float64\n",
            " 6   wt       32 non-null     float64\n",
            " 7   qsec     32 non-null     float64\n",
            " 8   vs       32 non-null     int64  \n",
            " 9   am       32 non-null     int64  \n",
            " 10  gear     32 non-null     int64  \n",
            " 11  carb     32 non-null     int64  \n",
            "dtypes: float64(5), int64(6), object(1)\n",
            "memory usage: 3.1+ KB\n"
          ]
        }
      ],
      "source": [
        "data.info()"
      ]
    },
    {
      "cell_type": "code",
      "execution_count": null,
      "id": "a6bd84f2-63db-4161-a73d-c124769e589d",
      "metadata": {
        "id": "a6bd84f2-63db-4161-a73d-c124769e589d",
        "outputId": "c59ab0c3-3c83-457e-97e6-e27b35e85298"
      },
      "outputs": [
        {
          "name": "stdout",
          "output_type": "stream",
          "text": [
            "<class 'pandas.core.frame.DataFrame'>\n",
            "Index: 16 entries, 0 to 31\n",
            "Data columns (total 12 columns):\n",
            " #   Column   Non-Null Count  Dtype  \n",
            "---  ------   --------------  -----  \n",
            " 0   vehicle  16 non-null     object \n",
            " 1   mpg      16 non-null     float64\n",
            " 2   cyl      16 non-null     int64  \n",
            " 3   disp     16 non-null     float64\n",
            " 4   hp       16 non-null     int64  \n",
            " 5   drat     16 non-null     float64\n",
            " 6   wt       16 non-null     float64\n",
            " 7   qsec     16 non-null     float64\n",
            " 8   vs       16 non-null     int64  \n",
            " 9   am       16 non-null     int64  \n",
            " 10  gear     16 non-null     int64  \n",
            " 11  carb     16 non-null     int64  \n",
            "dtypes: float64(5), int64(6), object(1)\n",
            "memory usage: 1.6+ KB\n"
          ]
        },
        {
          "data": {
            "text/plain": [
              "50.0"
            ]
          },
          "execution_count": 15,
          "metadata": {},
          "output_type": "execute_result"
        }
      ],
      "source": [
        "df=data.loc[(data['am']==1) | (data['cyl']==4),:]\n",
        "df.info()\n",
        "\n",
        "\n",
        "percentage=(16/32)*100\n",
        "percentage"
      ]
    },
    {
      "cell_type": "code",
      "execution_count": null,
      "id": "9178bac4-8c46-4c26-9bb9-05614ea20f7b",
      "metadata": {
        "id": "9178bac4-8c46-4c26-9bb9-05614ea20f7b"
      },
      "outputs": [],
      "source": []
    }
  ],
  "metadata": {
    "kernelspec": {
      "display_name": "Python 3 (ipykernel)",
      "language": "python",
      "name": "python3"
    },
    "language_info": {
      "codemirror_mode": {
        "name": "ipython",
        "version": 3
      },
      "file_extension": ".py",
      "mimetype": "text/x-python",
      "name": "python",
      "nbconvert_exporter": "python",
      "pygments_lexer": "ipython3",
      "version": "3.12.4"
    },
    "colab": {
      "provenance": [],
      "include_colab_link": true
    }
  },
  "nbformat": 4,
  "nbformat_minor": 5
}